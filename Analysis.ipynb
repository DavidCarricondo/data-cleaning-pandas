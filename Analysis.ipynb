{
 "cells": [
  {
   "cell_type": "markdown",
   "metadata": {},
   "source": [
    "## INVESTIGATE THE DATASET"
   ]
  },
  {
   "cell_type": "code",
   "execution_count": 20,
   "metadata": {},
   "outputs": [],
   "source": [
    "import pandas as pd\n",
    "import src.cleaning_functions as fn"
   ]
  },
  {
   "cell_type": "markdown",
   "metadata": {},
   "source": [
    "First, let's import the clean dataset:"
   ]
  },
  {
   "cell_type": "code",
   "execution_count": 10,
   "metadata": {},
   "outputs": [],
   "source": [
    "data = pd.read_csv('./OUTPUT/data_sharks_clean.csv')"
   ]
  },
  {
   "cell_type": "markdown",
   "metadata": {},
   "source": [
    "### Lethality"
   ]
  },
  {
   "cell_type": "markdown",
   "metadata": {},
   "source": [
    "To begin with, it is a good idea to take a look at the raw numbers:<br> **How many attacks could I classify to have happened during the night and during the day?**"
   ]
  },
  {
   "cell_type": "code",
   "execution_count": 12,
   "metadata": {},
   "outputs": [
    {
     "name": "stdout",
     "output_type": "stream",
     "text": [
      "Day      2568\n",
      "Night     318\n",
      "Name: night_day, dtype: int64\n"
     ]
    },
    {
     "data": {
      "text/plain": [
       "<matplotlib.axes._subplots.AxesSubplot at 0x7fda75bc6278>"
      ]
     },
     "execution_count": 12,
     "metadata": {},
     "output_type": "execute_result"
    },
    {
     "data": {
      "image/png": "[encoded data removed]",
      "text/plain": [
       "<Figure size 432x288 with 1 Axes>"
      ]
     },
     "metadata": {},
     "output_type": "display_data"
    }
   ],
   "source": [
    "print(data.night_day.value_counts())\n",
    "data.night_day.value_counts().plot.pie()"
   ]
  },
  {
   "cell_type": "markdown",
   "metadata": {},
   "source": [
    "Not surprisingly, most of the attacks have happened during the day.There is usually more people in the water during the day than during the night. <br> This same pattern shows up when looking at the total number of fatal accidents during the day and night:"
   ]
  },
  {
   "cell_type": "code",
   "execution_count": 18,
   "metadata": {},
   "outputs": [
    {
     "name": "stdout",
     "output_type": "stream",
     "text": [
      "-Day counts:\n",
      " N    2042\n",
      "Y     410\n",
      "Name: fatal, dtype: int64\n",
      "-Night counts:\n",
      " N    219\n",
      "Y     71\n",
      "Name: fatal, dtype: int64\n"
     ]
    },
    {
     "data": {
      "text/plain": [
       "<matplotlib.axes._subplots.AxesSubplot at 0x7fda758f40f0>"
      ]
     },
     "execution_count": 18,
     "metadata": {},
     "output_type": "execute_result"
    },
    {
     "data": {
      "image/png": "[encoded data removed]",
      "text/plain": [
       "<Figure size 432x288 with 1 Axes>"
      ]
     },
     "metadata": {
      "needs_background": "light"
     },
     "output_type": "display_data"
    }
   ],
   "source": [
    "print('-Day counts:\\n',data.loc[data.night_day=='Day','fatal'].value_counts())\n",
    "print('-Night counts:\\n',data.loc[data.night_day=='Night','fatal'].value_counts())\n",
    "\n",
    "\n",
    "data.groupby(['night_day']).agg({'fy':'sum',\n",
    "                                'fn':'sum'}).plot.bar(title='Total number of attacks, fatal (blue) and non fatal (orange)')\n",
    "#I could have drawn the plot without creating the new two columns fy and fx and pivoting the table, \n",
    "# but this way I show another way to draw it..."
   ]
  },
  {
   "cell_type": "markdown",
   "metadata": {},
   "source": [
    "However, these raw numbers are difficult to interpret. One way to meassure the severity of the attacks is checking for the percentage of fatal attacks. This is calculated by the custom function `fatality`. This way, we can answer the question: **are shark attacks more lethal during the night?**"
   ]
  },
  {
   "cell_type": "code",
   "execution_count": 21,
   "metadata": {},
   "outputs": [
    {
     "name": "stdout",
     "output_type": "stream",
     "text": [
      "The overall fatality is 16.67%\n"
     ]
    }
   ],
   "source": [
    "#We use the custom function fatality to calculate % of fatal attacks.\n",
    "overall_fatality = fn.fatality(data['fatal'])\n",
    "print(f\"The overall fatality is {round(overall_fatality,2)}%\")"
   ]
  },
  {
   "cell_type": "code",
   "execution_count": 22,
   "metadata": {},
   "outputs": [
    {
     "name": "stdout",
     "output_type": "stream",
     "text": [
      "Fatality:\n",
      " night_day\n",
      "Day      15.965732\n",
      "Night    22.327044\n",
      "Name: fatal, dtype: float64\n"
     ]
    },
    {
     "data": {
      "text/plain": [
       "<matplotlib.axes._subplots.AxesSubplot at 0x7fda758892e8>"
      ]
     },
     "execution_count": 22,
     "metadata": {},
     "output_type": "execute_result"
    },
    {
     "data": {
      "image/png": "[encoded data removed]",
      "text/plain": [
       "<Figure size 432x288 with 1 Axes>"
      ]
     },
     "metadata": {
      "needs_background": "light"
     },
     "output_type": "display_data"
    }
   ],
   "source": [
    "print('Fatality:\\n', data.groupby(['night_day']).fatal.apply(fatality))\n",
    "data.groupby(['night_day']).fatal.apply(fatality).plot.bar(title='Fatality of attacks')\n"
   ]
  },
  {
   "cell_type": "markdown",
   "metadata": {},
   "source": [
    "### Lethality per kind of activity"
   ]
  },
  {
   "cell_type": "markdown",
   "metadata": {},
   "source": [
    "This result supports my first hypothesis. Shark attacks are more lethal during the night. <br>What about the activities of the victims, **does it matter which activity the victim was practicing or whether it was practiced during the day or night?**"
   ]
  },
  {
   "cell_type": "code",
   "execution_count": 23,
   "metadata": {},
   "outputs": [
    {
     "name": "stdout",
     "output_type": "stream",
     "text": [
      "Total number of cases per activity and day night\n",
      "   activity night_day  fatal\n",
      "0   fishing       Day    368\n",
      "1   fishing     Night     70\n",
      "2     other       Day    192\n",
      "3     other     Night     52\n",
      "4  standing       Day    212\n",
      "5  standing     Night     12\n",
      "6   surfing       Day   1007\n",
      "7   surfing     Night    102\n",
      "8  swimming       Day    789\n",
      "9  swimming     Night     82\n"
     ]
    },
    {
     "data": {
      "text/plain": [
       "<matplotlib.axes._subplots.AxesSubplot at 0x7fda758ee358>"
      ]
     },
     "execution_count": 23,
     "metadata": {},
     "output_type": "execute_result"
    },
    {
     "data": {
      "image/png": "[encoded data removed]",
      "text/plain": [
       "<Figure size 432x288 with 1 Axes>"
      ]
     },
     "metadata": {
      "needs_background": "light"
     },
     "output_type": "display_data"
    }
   ],
   "source": [
    "print('Total number of cases per activity and day night')\n",
    "print(data[['activity','night_day','fatal']].groupby(['activity','night_day']).fatal.agg(len).reset_index())\n",
    "\n",
    "data.pivot_table(values=['fatal'], index=['activity'], columns=['night_day'], aggfunc=fatality).plot.bar(title='Fatality per activity and day/night')"
   ]
  },
  {
   "cell_type": "markdown",
   "metadata": {},
   "source": [
    "It seems that still, attacks are more lethal during the night, except for fishing and surfing. One possible explanation is that sharks stay during the night (and early hours) close to the breaks, where food is more available. Surfing and fishing may usually happen a bit more offshore."
   ]
  },
  {
   "cell_type": "markdown",
   "metadata": {},
   "source": [
    "### Lethality per year"
   ]
  },
  {
   "cell_type": "markdown",
   "metadata": {},
   "source": [
    "What about time? **Has the lethality of attacks changed over the year?**<br>Let's take a look at the raw numbers per decade."
   ]
  },
  {
   "cell_type": "code",
   "execution_count": 24,
   "metadata": {},
   "outputs": [
    {
     "data": {
      "text/html": [
       "<div>\n",
       "<style scoped>\n",
       "    .dataframe tbody tr th:only-of-type {\n",
       "        vertical-align: middle;\n",
       "    }\n",
       "\n",
       "    .dataframe tbody tr th {\n",
       "        vertical-align: top;\n",
       "    }\n",
       "\n",
       "    .dataframe thead th {\n",
       "        text-align: right;\n",
       "    }\n",
       "</style>\n",
       "<table border=\"1\" class=\"dataframe\">\n",
       "  <thead>\n",
       "    <tr style=\"text-align: right;\">\n",
       "      <th></th>\n",
       "      <th>decade</th>\n",
       "      <th>night_day</th>\n",
       "      <th>fatal</th>\n",
       "    </tr>\n",
       "  </thead>\n",
       "  <tbody>\n",
       "    <tr>\n",
       "      <th>0</th>\n",
       "      <td>2000</td>\n",
       "      <td>Day</td>\n",
       "      <td>631</td>\n",
       "    </tr>\n",
       "    <tr>\n",
       "      <th>1</th>\n",
       "      <td>2010</td>\n",
       "      <td>Day</td>\n",
       "      <td>590</td>\n",
       "    </tr>\n",
       "    <tr>\n",
       "      <th>2</th>\n",
       "      <td>1950bef</td>\n",
       "      <td>Day</td>\n",
       "      <td>398</td>\n",
       "    </tr>\n",
       "    <tr>\n",
       "      <th>3</th>\n",
       "      <td>1990</td>\n",
       "      <td>Day</td>\n",
       "      <td>308</td>\n",
       "    </tr>\n",
       "    <tr>\n",
       "      <th>4</th>\n",
       "      <td>1960</td>\n",
       "      <td>Day</td>\n",
       "      <td>234</td>\n",
       "    </tr>\n",
       "    <tr>\n",
       "      <th>5</th>\n",
       "      <td>1980</td>\n",
       "      <td>Day</td>\n",
       "      <td>185</td>\n",
       "    </tr>\n",
       "    <tr>\n",
       "      <th>6</th>\n",
       "      <td>1970</td>\n",
       "      <td>Day</td>\n",
       "      <td>106</td>\n",
       "    </tr>\n",
       "    <tr>\n",
       "      <th>7</th>\n",
       "      <td>1950bef</td>\n",
       "      <td>Night</td>\n",
       "      <td>82</td>\n",
       "    </tr>\n",
       "    <tr>\n",
       "      <th>8</th>\n",
       "      <td>2000</td>\n",
       "      <td>Night</td>\n",
       "      <td>68</td>\n",
       "    </tr>\n",
       "    <tr>\n",
       "      <th>9</th>\n",
       "      <td>2010</td>\n",
       "      <td>Night</td>\n",
       "      <td>50</td>\n",
       "    </tr>\n",
       "    <tr>\n",
       "      <th>10</th>\n",
       "      <td>1990</td>\n",
       "      <td>Night</td>\n",
       "      <td>32</td>\n",
       "    </tr>\n",
       "    <tr>\n",
       "      <th>11</th>\n",
       "      <td>1960</td>\n",
       "      <td>Night</td>\n",
       "      <td>27</td>\n",
       "    </tr>\n",
       "    <tr>\n",
       "      <th>12</th>\n",
       "      <td>1980</td>\n",
       "      <td>Night</td>\n",
       "      <td>18</td>\n",
       "    </tr>\n",
       "    <tr>\n",
       "      <th>13</th>\n",
       "      <td>1970</td>\n",
       "      <td>Night</td>\n",
       "      <td>12</td>\n",
       "    </tr>\n",
       "  </tbody>\n",
       "</table>\n",
       "</div>"
      ],
      "text/plain": [
       "     decade night_day  fatal\n",
       "0      2000       Day    631\n",
       "1      2010       Day    590\n",
       "2   1950bef       Day    398\n",
       "3      1990       Day    308\n",
       "4      1960       Day    234\n",
       "5      1980       Day    185\n",
       "6      1970       Day    106\n",
       "7   1950bef     Night     82\n",
       "8      2000     Night     68\n",
       "9      2010     Night     50\n",
       "10     1990     Night     32\n",
       "11     1960     Night     27\n",
       "12     1980     Night     18\n",
       "13     1970     Night     12"
      ]
     },
     "execution_count": 24,
     "metadata": {},
     "output_type": "execute_result"
    }
   ],
   "source": [
    "data[['decade','fatal', 'night_day']].groupby(['decade','night_day']).agg('count').sort_values(by='fatal', ascending = False).reset_index()"
   ]
  },
  {
   "cell_type": "markdown",
   "metadata": {},
   "source": [
    "Again, there are considerable less observations during the night. Let's look at the overall fatality:"
   ]
  },
  {
   "cell_type": "code",
   "execution_count": 24,
   "metadata": {},
   "outputs": [
    {
     "data": {
      "text/plain": [
       "<matplotlib.axes._subplots.AxesSubplot at 0x7fda757c2080>"
      ]
     },
     "execution_count": 24,
     "metadata": {},
     "output_type": "execute_result"
    },
    {
     "data": {
      "image/png": "[encoded data removed]",
      "text/plain": [
       "<Figure size 432x288 with 1 Axes>"
      ]
     },
     "metadata": {
      "needs_background": "light"
     },
     "output_type": "display_data"
    }
   ],
   "source": [
    "data[['decade','fatal']].groupby(['decade']).agg(fatality).sort_values(by='fatal', ascending = False).reset_index().plot('decade', 'fatal', title='Overall fatality per decade')"
   ]
  },
  {
   "cell_type": "markdown",
   "metadata": {},
   "source": [
    "There is a clear descending pattern. This might be deceiving, as it is likely that in old times mostly those remarkably fatal attacks where recorded somehow.<br><br>Does the fatality changes during day and night over the decades?"
   ]
  },
  {
   "cell_type": "code",
   "execution_count": 27,
   "metadata": {},
   "outputs": [
    {
     "data": {
      "text/plain": [
       "<matplotlib.axes._subplots.AxesSubplot at 0x7fda757729b0>"
      ]
     },
     "execution_count": 27,
     "metadata": {},
     "output_type": "execute_result"
    },
    {
     "data": {
      "image/png": "[encoded data removed]",
      "text/plain": [
       "<Figure size 432x288 with 1 Axes>"
      ]
     },
     "metadata": {
      "needs_background": "light"
     },
     "output_type": "display_data"
    }
   ],
   "source": [
    "data.pivot_table(values=['fatal'], index=['decade'], columns=['night_day'], aggfunc=fatality).plot.bar(title='Fatality per decade and day/night')"
   ]
  },
  {
   "cell_type": "markdown",
   "metadata": {},
   "source": [
    "In general, it seems that fatality is higher during the night, but there are some interesting things here, like the shift from the 2000's to the 2010's. Let's look closer into the 2010's and see what happened:"
   ]
  },
  {
   "cell_type": "code",
   "execution_count": 26,
   "metadata": {},
   "outputs": [
    {
     "data": {
      "text/plain": [
       "<matplotlib.axes._subplots.AxesSubplot at 0x7fda75772710>"
      ]
     },
     "execution_count": 26,
     "metadata": {},
     "output_type": "execute_result"
    },
    {
     "data": {
      "image/png": "[encoded data removed]",
      "text/plain": [
       "<Figure size 432x288 with 1 Axes>"
      ]
     },
     "metadata": {
      "needs_background": "light"
     },
     "output_type": "display_data"
    }
   ],
   "source": [
    "data[data.decade == '2010'].pivot_table(values=['fatal'], index=['activity'], columns=['night_day'], aggfunc=fatality).plot.bar(title=\"Fatality per activity and day/night in the 2010's\")"
   ]
  },
  {
   "cell_type": "markdown",
   "metadata": {},
   "source": [
    "Interesting, all the fatal attacks during the night happened while swimming. "
   ]
  },
  {
   "cell_type": "markdown",
   "metadata": {},
   "source": [
    "### Conclusion"
   ]
  },
  {
   "cell_type": "markdown",
   "metadata": {},
   "source": [
    "**In conclusion**, shark attacks in general are more lethal during the night, specially if the victim is performing an activity close to the shoreline. Although fatality seems to decrease over the decades, this could be an artifact of the data (more, less biased and more accurate records nowadays).<br><br>However, these conclusions have to be treated carefully, since they are only based on a portion of the data (where time was somehow accurately reported)."
   ]
  },
  {
   "cell_type": "markdown",
   "metadata": {},
   "source": [
    "## BONUS. How many deads by shark per country?"
   ]
  },
  {
   "cell_type": "markdown",
   "metadata": {},
   "source": [
    "For the bonus question I will use the data set that I previously prepared for this question:"
   ]
  },
  {
   "cell_type": "code",
   "execution_count": 30,
   "metadata": {},
   "outputs": [],
   "source": [
    "data_country = pd.read_csv('./OUTPUT/data_country.csv')"
   ]
  },
  {
   "cell_type": "markdown",
   "metadata": {},
   "source": [
    "Now I can group the data by country summing the number of fatal attacks for each one:"
   ]
  },
  {
   "cell_type": "code",
   "execution_count": 37,
   "metadata": {},
   "outputs": [],
   "source": [
    "dta = data_country.groupby('country').agg({'population':'first','n_fatal':'sum'}).reset_index().set_index('country')"
   ]
  },
  {
   "cell_type": "markdown",
   "metadata": {},
   "source": [
    "Then we can easily calculate the number of fatal attacks per million inhabitants:"
   ]
  },
  {
   "cell_type": "code",
   "execution_count": 38,
   "metadata": {},
   "outputs": [
    {
     "data": {
      "text/html": [
       "<div>\n",
       "<style scoped>\n",
       "    .dataframe tbody tr th:only-of-type {\n",
       "        vertical-align: middle;\n",
       "    }\n",
       "\n",
       "    .dataframe tbody tr th {\n",
       "        vertical-align: top;\n",
       "    }\n",
       "\n",
       "    .dataframe thead th {\n",
       "        text-align: right;\n",
       "    }\n",
       "</style>\n",
       "<table border=\"1\" class=\"dataframe\">\n",
       "  <thead>\n",
       "    <tr style=\"text-align: right;\">\n",
       "      <th></th>\n",
       "      <th>population</th>\n",
       "      <th>n_fatal</th>\n",
       "      <th>per_mill</th>\n",
       "    </tr>\n",
       "    <tr>\n",
       "      <th>country</th>\n",
       "      <th></th>\n",
       "      <th></th>\n",
       "      <th></th>\n",
       "    </tr>\n",
       "  </thead>\n",
       "  <tbody>\n",
       "    <tr>\n",
       "      <th>algeria</th>\n",
       "      <td>38700000.0</td>\n",
       "      <td>1</td>\n",
       "      <td>0.025840</td>\n",
       "    </tr>\n",
       "    <tr>\n",
       "      <th>american samoa</th>\n",
       "      <td>55519.0</td>\n",
       "      <td>3</td>\n",
       "      <td>54.035555</td>\n",
       "    </tr>\n",
       "    <tr>\n",
       "      <th>angola</th>\n",
       "      <td>24383301.0</td>\n",
       "      <td>0</td>\n",
       "      <td>0.000000</td>\n",
       "    </tr>\n",
       "    <tr>\n",
       "      <th>argentina</th>\n",
       "      <td>42669500.0</td>\n",
       "      <td>0</td>\n",
       "      <td>0.000000</td>\n",
       "    </tr>\n",
       "    <tr>\n",
       "      <th>aruba</th>\n",
       "      <td>101484.0</td>\n",
       "      <td>1</td>\n",
       "      <td>9.853770</td>\n",
       "    </tr>\n",
       "    <tr>\n",
       "      <th>...</th>\n",
       "      <td>...</td>\n",
       "      <td>...</td>\n",
       "      <td>...</td>\n",
       "    </tr>\n",
       "    <tr>\n",
       "      <th>uruguay</th>\n",
       "      <td>3404189.0</td>\n",
       "      <td>2</td>\n",
       "      <td>0.587511</td>\n",
       "    </tr>\n",
       "    <tr>\n",
       "      <th>vanuatu</th>\n",
       "      <td>264652.0</td>\n",
       "      <td>9</td>\n",
       "      <td>34.006922</td>\n",
       "    </tr>\n",
       "    <tr>\n",
       "      <th>venezuela</th>\n",
       "      <td>30206307.0</td>\n",
       "      <td>4</td>\n",
       "      <td>0.132423</td>\n",
       "    </tr>\n",
       "    <tr>\n",
       "      <th>vietnam</th>\n",
       "      <td>89708900.0</td>\n",
       "      <td>2</td>\n",
       "      <td>0.022294</td>\n",
       "    </tr>\n",
       "    <tr>\n",
       "      <th>yemen</th>\n",
       "      <td>25956000.0</td>\n",
       "      <td>7</td>\n",
       "      <td>0.269687</td>\n",
       "    </tr>\n",
       "  </tbody>\n",
       "</table>\n",
       "<p>120 rows × 3 columns</p>\n",
       "</div>"
      ],
      "text/plain": [
       "                population  n_fatal   per_mill\n",
       "country                                       \n",
       "algeria         38700000.0        1   0.025840\n",
       "american samoa     55519.0        3  54.035555\n",
       "angola          24383301.0        0   0.000000\n",
       "argentina       42669500.0        0   0.000000\n",
       "aruba             101484.0        1   9.853770\n",
       "...                    ...      ...        ...\n",
       "uruguay          3404189.0        2   0.587511\n",
       "vanuatu           264652.0        9  34.006922\n",
       "venezuela       30206307.0        4   0.132423\n",
       "vietnam         89708900.0        2   0.022294\n",
       "yemen           25956000.0        7   0.269687\n",
       "\n",
       "[120 rows x 3 columns]"
      ]
     },
     "execution_count": 38,
     "metadata": {},
     "output_type": "execute_result"
    }
   ],
   "source": [
    "dta['per_mill'] = (dta.n_fatal/dta.population)*1000000\n",
    "dta"
   ]
  },
  {
   "cell_type": "markdown",
   "metadata": {},
   "source": [
    "Obviously, most of the countries have very few death by shark per million inhabitants, so let's take a look at those with more than 20 deaths per million inhabitants:"
   ]
  },
  {
   "cell_type": "code",
   "execution_count": 39,
   "metadata": {},
   "outputs": [
    {
     "data": {
      "text/plain": [
       "<matplotlib.axes._subplots.AxesSubplot at 0x7fda753af668>"
      ]
     },
     "execution_count": 39,
     "metadata": {},
     "output_type": "execute_result"
    },
    {
     "data": {
      "image/png": "[encoded data removed]",
      "text/plain": [
       "<Figure size 432x288 with 1 Axes>"
      ]
     },
     "metadata": {
      "needs_background": "light"
     },
     "output_type": "display_data"
    }
   ],
   "source": [
    "dta['per_mill'][dta.per_mill>20].plot.bar(title = 'Nº deaths by shark per mill.hab (countries with more than 20)')"
   ]
  },
  {
   "cell_type": "markdown",
   "metadata": {},
   "source": [
    "As expected, most of these countries are island from the Polynesia or the Caribbean. Funny that Monaco is in that group, but with a population of about 38000, one single dead is equivalent to about 26 deaths per million...<br><br>Just out of curiosity, let's look at the numbers of some countries:"
   ]
  },
  {
   "cell_type": "code",
   "execution_count": 48,
   "metadata": {},
   "outputs": [
    {
     "name": "stdout",
     "output_type": "stream",
     "text": [
      "                per_mill\n",
      "country                 \n",
      "australia      11.731492\n",
      "united states   0.573202\n",
      "brazil          0.186653\n",
      "chile           0.224479\n",
      "spain           0.172014\n",
      "france          0.045401\n"
     ]
    },
    {
     "data": {
      "image/png": "[encoded data removed]",
      "text/plain": [
       "<Figure size 432x288 with 1 Axes>"
      ]
     },
     "metadata": {
      "needs_background": "light"
     },
     "output_type": "display_data"
    }
   ],
   "source": [
    "dta.loc[['australia','united states', 'brazil', 'chile','spain','france'],][['per_mill']].plot.bar(title='Deaths by shark per million')\n",
    "print(dta.loc[['australia','united states', 'brazil', 'chile','spain','france'],][['per_mill']])"
   ]
  },
  {
   "cell_type": "markdown",
   "metadata": {},
   "source": [
    "Australia is one of the biggest countries with more deaths. But of course, in Australia everything is trying to eat you..."
   ]
  }
 ],
 "metadata": {
  "kernelspec": {
   "display_name": "Python 3",
   "language": "python",
   "name": "python3"
  },
  "language_info": {
   "codemirror_mode": {
    "name": "ipython",
    "version": 3
   },
   "file_extension": ".py",
   "mimetype": "text/x-python",
   "name": "python",
   "nbconvert_exporter": "python",
   "pygments_lexer": "ipython3",
   "version": "3.6.9"
  }
 },
 "nbformat": 4,
 "nbformat_minor": 2
}
